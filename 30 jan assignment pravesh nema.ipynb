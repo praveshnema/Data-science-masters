{
 "cells": [
  {
   "cell_type": "markdown",
   "id": "30c648b7-8244-465e-a275-933ea2586461",
   "metadata": {},
   "source": [
    "### 1. Write a program to accept percentage from the user and display the grade according to the following criteria: \n",
    "\n",
    "|Marks|Grade|\n",
    "|-|-|\n",
    "|>90         | A    | \n",
    "|>80 and <=90 | B    | \n",
    "|>=60 and <=80| C    | \n",
    "|below 60     | D    |\n",
    " "
   ]
  },
  {
   "cell_type": "code",
   "execution_count": 1,
   "id": "11bcb365-b669-46b9-b192-3e05c7d12c34",
   "metadata": {},
   "outputs": [
    {
     "name": "stdout",
     "output_type": "stream",
     "text": [
      "Hello this program is used to convert your marks/percentage to grade\n"
     ]
    },
    {
     "name": "stdin",
     "output_type": "stream",
     "text": [
      "Enter percentage :  90\n"
     ]
    },
    {
     "name": "stdout",
     "output_type": "stream",
     "text": [
      "your grade is B\n"
     ]
    }
   ],
   "source": [
    "# Solution of no.1\n",
    "\n",
    "print(\"Hello this program is used to convert your marks/percentage to grade\")\n",
    "percent=int(input(\"Enter percentage : \"))\n",
    "if percent>90:\n",
    "    print(\"Your grade is A\")\n",
    "elif percent >80 and percent<=90:\n",
    "    print(\"your grade is B\")\n",
    "elif percent >60 and percent<=80:\n",
    "    print(\"your grade is C\")\n",
    "elif percent <60:\n",
    "    print(\"your grade is D\")\n",
    "else:\n",
    "    print(\"please type valid marks/percentage\")\n"
   ]
  },
  {
   "cell_type": "markdown",
   "id": "9e213c15-ee4b-4f41-a99f-6d19623aa954",
   "metadata": {},
   "source": [
    "### 2. Write a program to accept the cost price of a bike and display the road tax to be paid according to the following criteria: \n",
    "\n",
    "|Tax    |Cost Price(in Rs)|\n",
    "|-|-|\n",
    "|15%    |   >100000    |\n",
    "|10%    |   >50000 and <= 100000   | \n",
    "|5%     |   <= 50000     |"
   ]
  },
  {
   "cell_type": "code",
   "execution_count": 2,
   "id": "d707db07-5aa8-4d10-96fb-f80af463c461",
   "metadata": {},
   "outputs": [
    {
     "name": "stdout",
     "output_type": "stream",
     "text": [
      "This program is accept the cost price of a bike and display the road tax to be paid\n"
     ]
    },
    {
     "name": "stdin",
     "output_type": "stream",
     "text": [
      "Enter the cost price of bike:  500000\n"
     ]
    },
    {
     "name": "stdout",
     "output_type": "stream",
     "text": [
      "575000.0\n"
     ]
    }
   ],
   "source": [
    "#Solution for no.2\n",
    "\n",
    "print(\"This program is accept the cost price of a bike and display the road tax to be paid\")\n",
    "cp=int(input(\"Enter the cost price of bike: \"))\n",
    "if cp>100000:\n",
    "    print(cp*1.15)\n",
    "elif cp >50000 and cp <= 100000:\n",
    "    print(cp*1.1)\n",
    "elif cp <= 50000:\n",
    "    print(cp*1.05)\n",
    "else:\n",
    "    print(\"enter valid amount\")"
   ]
  },
  {
   "cell_type": "markdown",
   "id": "71d2df63-d4c8-484c-ae25-95c7a82ec101",
   "metadata": {},
   "source": [
    "### 3. Write a program to Accept any city from the user and display monuments of that city. \n",
    "|City    |   Monument|\n",
    "|-|-|\n",
    "|Delhi   |   Red Fort| \n",
    "|Agra    |  Taj Mahal|\n",
    "|Jaipur  |  Jal Mahal|\n",
    " "
   ]
  },
  {
   "cell_type": "code",
   "execution_count": 3,
   "id": "dee7d807-5e0d-4995-a86f-368fcc725a3d",
   "metadata": {},
   "outputs": [
    {
     "name": "stdout",
     "output_type": "stream",
     "text": [
      "This program is Accept city from the user and display monuments of that city\n"
     ]
    },
    {
     "name": "stdin",
     "output_type": "stream",
     "text": [
      "Choose one of the Following city: \n",
      " Delhi \n",
      " Agra \n",
      " Jaipur \n",
      "  delhi\n"
     ]
    },
    {
     "name": "stdout",
     "output_type": "stream",
     "text": [
      "monument of delhi is Red Fort\n"
     ]
    }
   ],
   "source": [
    "#solution for 3\n",
    "print(\"This program is Accept city from the user and display monuments of that city\")\n",
    "city=input(\"Choose one of the Following city: \\n Delhi \\n Agra \\n Jaipur \\n \")\n",
    "if city=='Delhi' or city=='DELHI' or city=='delhi':\n",
    "    print(\"monument of delhi is Red Fort\")\n",
    "elif city=='Agra' or city=='AGRA' or city=='agra':\n",
    "    print(\"monument of agra is Taj Mahal\")\n",
    "elif city=='Jaipur' or city=='JAIPUR' or city=='jaipur':\n",
    "    print(\"monument of jaipur is Jal Mahal\")\n",
    "else:\n",
    "    print(\"enter valid city name\")"
   ]
  },
  {
   "cell_type": "markdown",
   "id": "6bdaf502-f27a-4dfa-8ff1-2d163fd2faa8",
   "metadata": {},
   "source": [
    "### 4. Check how many times a given number can be divided by 3 before it is less than or equal to 10."
   ]
  },
  {
   "cell_type": "code",
   "execution_count": 5,
   "id": "29dd19b4-ed83-44f2-b5d4-56e890be7a94",
   "metadata": {},
   "outputs": [
    {
     "name": "stdout",
     "output_type": "stream",
     "text": [
      "This program is to Check how many times a given number can be divided by 3 before it is less than or equal to 10\n"
     ]
    },
    {
     "name": "stdin",
     "output_type": "stream",
     "text": [
      "Enter number : 4\n"
     ]
    },
    {
     "name": "stdout",
     "output_type": "stream",
     "text": [
      "0\n"
     ]
    }
   ],
   "source": [
    "# solution for 4\n",
    "print(\"This program is to Check how many times a given number can be divided by 3 before it is less than or equal to 10\")\n",
    "num=int(input(\"Enter number :\"))\n",
    "ctr=0\n",
    "while (num>=10):\n",
    "    num=num/3\n",
    "    ctr=ctr+1\n",
    "print(ctr)"
   ]
  },
  {
   "cell_type": "markdown",
   "id": "bf8a3b6d-b8a0-42ac-b3f0-cd2470cc2f87",
   "metadata": {},
   "source": [
    "### 5. Why and When to Use while Loop in Python give a detailed description with example \n"
   ]
  },
  {
   "cell_type": "code",
   "execution_count": 6,
   "id": "1b9e2407-b1d5-4c8c-907c-1ad146b76a40",
   "metadata": {},
   "outputs": [
    {
     "name": "stdout",
     "output_type": "stream",
     "text": [
      "Type a number and this program will print that many times I am learning python from PW Skills\n"
     ]
    },
    {
     "name": "stdin",
     "output_type": "stream",
     "text": [
      "Enter number : 5\n"
     ]
    },
    {
     "name": "stdout",
     "output_type": "stream",
     "text": [
      "I am learning python from PW Skills\n",
      "I am learning python from PW Skills\n",
      "I am learning python from PW Skills\n",
      "I am learning python from PW Skills\n",
      "I am learning python from PW Skills\n"
     ]
    }
   ],
   "source": [
    "# Solution for 5\n",
    "''' \n",
    "Why and when use while loop in python :\n",
    "Answer: when we don't know how many times loop will execute in advance then we use while loop, it is a indefinite iteration. for example \n",
    "\n",
    "take a user value and print that many times \"I am learning python from PW skills\" :\n",
    "'''\n",
    "print(\"Type a number and this program will print that many times I am learning python from PW Skills\")\n",
    "num=int(input(\"Enter number :\"))\n",
    "\n",
    "while (num>0):\n",
    "    print(\"I am learning python from PW Skills\")\n",
    "    num=num-1\n",
    " "
   ]
  },
  {
   "cell_type": "markdown",
   "id": "d4fbd11f-d153-4cb7-ad08-fefa6443ccbb",
   "metadata": {},
   "source": [
    "### 6. Use nested while loop to print 3 different pattern. "
   ]
  },
  {
   "cell_type": "code",
   "execution_count": 22,
   "id": "5d1fadfb-1334-4e2d-be12-dbd3ba589d6a",
   "metadata": {},
   "outputs": [
    {
     "name": "stdout",
     "output_type": "stream",
     "text": [
      "*******\n",
      "******\n",
      "*****\n",
      "****\n",
      "***\n",
      "**\n",
      "*\n"
     ]
    }
   ],
   "source": [
    "# 1st pattern inverted triangle\n",
    "i=7\n",
    "while(i>0):\n",
    "    j=0\n",
    "    ptr=\"\"\n",
    "    while (j<i):\n",
    "        j=j+1\n",
    "        ptr=ptr+\"*\"\n",
    "    print(ptr)\n",
    "    i=i-1"
   ]
  },
  {
   "cell_type": "code",
   "execution_count": 28,
   "id": "8af03b2c-9d5b-4e88-8218-10ecc9018ae0",
   "metadata": {},
   "outputs": [
    {
     "name": "stdout",
     "output_type": "stream",
     "text": [
      "* \n",
      "* * \n",
      "* * * \n",
      "* * * * \n",
      "* * * * * \n",
      "* * * * * * \n",
      "* * * * * * * \n"
     ]
    }
   ],
   "source": [
    "# 2nd pattern right angle traingle\n",
    "i = 1\n",
    "while i <= 7:\n",
    "    j = 1\n",
    "    while j <= i:\n",
    "        print(\"*\", end=\" \")\n",
    "        j += 1\n",
    "    print(\"\")\n",
    "    i += 1"
   ]
  },
  {
   "cell_type": "code",
   "execution_count": 26,
   "id": "e6e6282a-d195-4d7f-9da8-7df388bba171",
   "metadata": {},
   "outputs": [
    {
     "name": "stdout",
     "output_type": "stream",
     "text": [
      "       * \n",
      "      * * \n",
      "     * * * \n",
      "    * * * * \n",
      "   * * * * * \n",
      "  * * * * * * \n",
      " * * * * * * * \n"
     ]
    }
   ],
   "source": [
    "# 3rd pattern right angle traingle\n",
    "rows = 7\n",
    "for i in range(1, 8):\n",
    "    for j in range(1, 8-i+1):\n",
    "        print(end=\" \")\n",
    "    for k in range(1, i+1):\n",
    "        print(\"*\", end=\" \")\n",
    "    print(\"\")"
   ]
  },
  {
   "cell_type": "markdown",
   "id": "11589d41-dda8-48c5-8fc9-d35b7e63dfb0",
   "metadata": {},
   "source": [
    "### 7. Reverse a while loop to display numbers from 10 to 1."
   ]
  },
  {
   "cell_type": "code",
   "execution_count": 31,
   "id": "1e00898c-7432-4edb-b741-ccc9d4c35a3f",
   "metadata": {},
   "outputs": [
    {
     "name": "stdout",
     "output_type": "stream",
     "text": [
      "10\n",
      "9\n",
      "8\n",
      "7\n",
      "6\n",
      "5\n",
      "4\n",
      "3\n",
      "2\n",
      "1\n"
     ]
    }
   ],
   "source": [
    "i=10\n",
    "while(i>0):\n",
    "    print(i)\n",
    "    i=i-1"
   ]
  },
  {
   "cell_type": "markdown",
   "id": "272ba0ae-63c2-42b5-b55d-f94ec4e84a58",
   "metadata": {},
   "source": [
    "### 8. Reverse a while loop to display numbers from 10 to 1 "
   ]
  },
  {
   "cell_type": "code",
   "execution_count": 32,
   "id": "e3d3d08b-57d4-44df-b18d-28e1fe6591c0",
   "metadata": {},
   "outputs": [
    {
     "name": "stdout",
     "output_type": "stream",
     "text": [
      "10\n",
      "9\n",
      "8\n",
      "7\n",
      "6\n",
      "5\n",
      "4\n",
      "3\n",
      "2\n",
      "1\n"
     ]
    }
   ],
   "source": [
    "i=10\n",
    "while(i>0):\n",
    "    print(i)\n",
    "    i=i-1"
   ]
  },
  {
   "cell_type": "code",
   "execution_count": null,
   "id": "9017468e-c50d-4f09-b8a7-d3bdd12507d1",
   "metadata": {},
   "outputs": [],
   "source": []
  }
 ],
 "metadata": {
  "kernelspec": {
   "display_name": "Python 3 (ipykernel)",
   "language": "python",
   "name": "python3"
  },
  "language_info": {
   "codemirror_mode": {
    "name": "ipython",
    "version": 3
   },
   "file_extension": ".py",
   "mimetype": "text/x-python",
   "name": "python",
   "nbconvert_exporter": "python",
   "pygments_lexer": "ipython3",
   "version": "3.10.8"
  }
 },
 "nbformat": 4,
 "nbformat_minor": 5
}
