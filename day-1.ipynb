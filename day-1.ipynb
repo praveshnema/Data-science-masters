{
 "cells": [
  {
   "cell_type": "code",
   "execution_count": 1,
   "id": "2c496ba9-6425-4fe6-8ff5-dea61e651308",
   "metadata": {},
   "outputs": [
    {
     "data": {
      "text/plain": [
       "2"
      ]
     },
     "execution_count": 1,
     "metadata": {},
     "output_type": "execute_result"
    }
   ],
   "source": [
    "1+1"
   ]
  },
  {
   "cell_type": "code",
   "execution_count": 2,
   "id": "64205640-d490-4c9d-969c-3b8cc9a7ebfa",
   "metadata": {},
   "outputs": [
    {
     "name": "stdout",
     "output_type": "stream",
     "text": [
      "2\n"
     ]
    }
   ],
   "source": [
    "print(1+1)"
   ]
  },
  {
   "cell_type": "code",
   "execution_count": 3,
   "id": "bb8ebaa0-601b-4837-890a-eeb0341b3980",
   "metadata": {},
   "outputs": [],
   "source": [
    "a=10"
   ]
  },
  {
   "cell_type": "code",
   "execution_count": 4,
   "id": "ea7949d4-0ef4-410b-8730-17a9991e24fa",
   "metadata": {},
   "outputs": [
    {
     "data": {
      "text/plain": [
       "10"
      ]
     },
     "execution_count": 4,
     "metadata": {},
     "output_type": "execute_result"
    }
   ],
   "source": [
    "a"
   ]
  },
  {
   "cell_type": "markdown",
   "id": "31154f0f-7086-480e-b264-87f6624c2f71",
   "metadata": {},
   "source": [
    "#this is first class"
   ]
  },
  {
   "cell_type": "code",
   "execution_count": 5,
   "id": "37c15297-1b1c-426f-b950-a37901e02fc3",
   "metadata": {},
   "outputs": [],
   "source": [
    "##This is first class"
   ]
  },
  {
   "cell_type": "markdown",
   "id": "a385980f-b040-4605-8aa5-6834a4457efb",
   "metadata": {},
   "source": [
    "### This is first class"
   ]
  },
  {
   "cell_type": "code",
   "execution_count": 6,
   "id": "7148827c-a664-4a4f-8914-52b4fa07ea2d",
   "metadata": {},
   "outputs": [
    {
     "data": {
      "text/plain": [
       "' Multiline \\ncomments'"
      ]
     },
     "execution_count": 6,
     "metadata": {},
     "output_type": "execute_result"
    }
   ],
   "source": [
    "\"\"\" Multiline \n",
    "comments\"\"\""
   ]
  },
  {
   "cell_type": "markdown",
   "id": "03e0096f-c7a9-40af-aecc-1eb1df98bc70",
   "metadata": {},
   "source": [
    "# hello single hash\n",
    "## hello double hash\n",
    "### hello triple hash\n",
    "#### four hash\n",
    "no hash"
   ]
  },
  {
   "cell_type": "raw",
   "id": "c83c09d4-6b65-4ecc-91e8-bba6d503a847",
   "metadata": {},
   "source": [
    "hi raw code"
   ]
  },
  {
   "cell_type": "code",
   "execution_count": 7,
   "id": "8c96011d-5e00-438e-be6b-7511afaa8c44",
   "metadata": {},
   "outputs": [
    {
     "name": "stdout",
     "output_type": "stream",
     "text": [
      "4\n"
     ]
    }
   ],
   "source": [
    "print(1+3)"
   ]
  },
  {
   "cell_type": "code",
   "execution_count": 8,
   "id": "78e7ce75-5b42-49da-a49e-05a690b12543",
   "metadata": {},
   "outputs": [],
   "source": [
    "a=5"
   ]
  },
  {
   "cell_type": "code",
   "execution_count": 9,
   "id": "1701909f-8262-4b65-908e-e5c37a4ceb1a",
   "metadata": {},
   "outputs": [
    {
     "name": "stdout",
     "output_type": "stream",
     "text": [
      "5\n"
     ]
    }
   ],
   "source": [
    "a=5\n",
    "print(a)"
   ]
  },
  {
   "cell_type": "code",
   "execution_count": 10,
   "id": "9b4b3993-ad35-4bdd-8028-2db47025b738",
   "metadata": {},
   "outputs": [
    {
     "name": "stdout",
     "output_type": "stream",
     "text": [
      "hello this is my first class \n",
      " my name is pravesh nema\n"
     ]
    }
   ],
   "source": [
    "print(\"hello this is my first class \\n my name is pravesh nema\")"
   ]
  },
  {
   "cell_type": "markdown",
   "id": "b975661a-9aa6-48ef-9382-542c78a68697",
   "metadata": {},
   "source": [
    "# Variable assignements\n"
   ]
  },
  {
   "cell_type": "code",
   "execution_count": 14,
   "id": "2a5c8865-8df8-41fc-ad68-548a5ff5c9e0",
   "metadata": {},
   "outputs": [],
   "source": [
    "name = \"pravesh\"\n",
    "company = \"PW skills\""
   ]
  },
  {
   "cell_type": "code",
   "execution_count": 15,
   "id": "9b421aa6-8083-480f-9500-ea8a0928add8",
   "metadata": {},
   "outputs": [
    {
     "data": {
      "text/plain": [
       "'pravesh'"
      ]
     },
     "execution_count": 15,
     "metadata": {},
     "output_type": "execute_result"
    }
   ],
   "source": [
    "name"
   ]
  },
  {
   "cell_type": "code",
   "execution_count": 16,
   "id": "ce08cd46-64fb-4a1f-af7d-1590a335ad16",
   "metadata": {},
   "outputs": [
    {
     "data": {
      "text/plain": [
       "'PW skills'"
      ]
     },
     "execution_count": 16,
     "metadata": {},
     "output_type": "execute_result"
    }
   ],
   "source": [
    "company"
   ]
  },
  {
   "cell_type": "code",
   "execution_count": 17,
   "id": "cbdfc423-73c6-4da4-978a-75971fa2a1b0",
   "metadata": {},
   "outputs": [],
   "source": [
    "number =10"
   ]
  },
  {
   "cell_type": "code",
   "execution_count": 18,
   "id": "e911435b-ac6a-4f3c-8619-b6aefcf9b2ce",
   "metadata": {},
   "outputs": [
    {
     "data": {
      "text/plain": [
       "10"
      ]
     },
     "execution_count": 18,
     "metadata": {},
     "output_type": "execute_result"
    }
   ],
   "source": [
    "number"
   ]
  },
  {
   "cell_type": "code",
   "execution_count": 19,
   "id": "ddb2d72c-ffbf-4b00-96e3-4c228671faad",
   "metadata": {},
   "outputs": [],
   "source": [
    "name = \"nema\""
   ]
  },
  {
   "cell_type": "code",
   "execution_count": 20,
   "id": "4798754f-d97f-4eab-9536-155629ce5f0f",
   "metadata": {},
   "outputs": [
    {
     "data": {
      "text/plain": [
       "'nema'"
      ]
     },
     "execution_count": 20,
     "metadata": {},
     "output_type": "execute_result"
    }
   ],
   "source": [
    "name"
   ]
  },
  {
   "cell_type": "code",
   "execution_count": 21,
   "id": "7ade8a6e-1a97-4044-b0c0-7fa9308ec15d",
   "metadata": {},
   "outputs": [],
   "source": [
    "number = 20"
   ]
  },
  {
   "cell_type": "code",
   "execution_count": 22,
   "id": "7e7b921b-8709-491c-9d2e-36cb6a580da6",
   "metadata": {},
   "outputs": [
    {
     "data": {
      "text/plain": [
       "20"
      ]
     },
     "execution_count": 22,
     "metadata": {},
     "output_type": "execute_result"
    }
   ],
   "source": [
    "number"
   ]
  },
  {
   "cell_type": "code",
   "execution_count": 23,
   "id": "51f83760-db3f-4612-b8aa-2e58eef9d7a3",
   "metadata": {},
   "outputs": [
    {
     "data": {
      "text/plain": [
       "int"
      ]
     },
     "execution_count": 23,
     "metadata": {},
     "output_type": "execute_result"
    }
   ],
   "source": [
    "type(number)"
   ]
  },
  {
   "cell_type": "code",
   "execution_count": 24,
   "id": "4589115d-3c88-4dbb-b9f0-d2184555db24",
   "metadata": {},
   "outputs": [
    {
     "data": {
      "text/plain": [
       "str"
      ]
     },
     "execution_count": 24,
     "metadata": {},
     "output_type": "execute_result"
    }
   ],
   "source": [
    "type(name)"
   ]
  },
  {
   "cell_type": "code",
   "execution_count": 25,
   "id": "1742ecc7-e77b-4c4a-a94a-c605ac213213",
   "metadata": {},
   "outputs": [
    {
     "data": {
      "text/plain": [
       "int"
      ]
     },
     "execution_count": 25,
     "metadata": {},
     "output_type": "execute_result"
    }
   ],
   "source": [
    "type(1)"
   ]
  },
  {
   "cell_type": "code",
   "execution_count": 29,
   "id": "02edd144-2d08-40aa-8dbc-4273179ad44f",
   "metadata": {},
   "outputs": [],
   "source": [
    "decimal_num=2.5"
   ]
  },
  {
   "cell_type": "code",
   "execution_count": 32,
   "id": "b89d968a-60ba-4461-b7f9-f935756ebeb3",
   "metadata": {},
   "outputs": [
    {
     "data": {
      "text/plain": [
       "2.5"
      ]
     },
     "execution_count": 32,
     "metadata": {},
     "output_type": "execute_result"
    }
   ],
   "source": [
    "decimal_num #use dec and tab you will get full name decimal_num the variable you declared"
   ]
  },
  {
   "cell_type": "code",
   "execution_count": 31,
   "id": "465993ec-37e0-42c7-8e14-b96272554b86",
   "metadata": {},
   "outputs": [
    {
     "data": {
      "text/plain": [
       "20"
      ]
     },
     "execution_count": 31,
     "metadata": {},
     "output_type": "execute_result"
    }
   ],
   "source": [
    "number"
   ]
  },
  {
   "cell_type": "code",
   "execution_count": 33,
   "id": "5cd18413-7076-4d67-8020-f3ba4a8d1f82",
   "metadata": {},
   "outputs": [],
   "source": [
    " company='ineuron'\n",
    "Company='PWskilss'"
   ]
  },
  {
   "cell_type": "code",
   "execution_count": 34,
   "id": "443f1de9-716d-40e6-9927-a8160be655c7",
   "metadata": {},
   "outputs": [
    {
     "data": {
      "text/plain": [
       "'ineuron'"
      ]
     },
     "execution_count": 34,
     "metadata": {},
     "output_type": "execute_result"
    }
   ],
   "source": [
    "company"
   ]
  },
  {
   "cell_type": "code",
   "execution_count": 35,
   "id": "f0727ca7-5b1b-47eb-b2a4-f4495bc06ad1",
   "metadata": {},
   "outputs": [
    {
     "data": {
      "text/plain": [
       "'PWskilss'"
      ]
     },
     "execution_count": 35,
     "metadata": {},
     "output_type": "execute_result"
    }
   ],
   "source": [
    "Company"
   ]
  },
  {
   "cell_type": "code",
   "execution_count": 36,
   "id": "98355e8f-767d-44da-afe3-45a29fbf1001",
   "metadata": {},
   "outputs": [],
   "source": [
    "Company= 'PW_Skills'"
   ]
  },
  {
   "cell_type": "code",
   "execution_count": 37,
   "id": "38118913-b479-41e8-9dc7-8f7d6f5c9188",
   "metadata": {},
   "outputs": [
    {
     "data": {
      "text/plain": [
       "'PW_Skills'"
      ]
     },
     "execution_count": 37,
     "metadata": {},
     "output_type": "execute_result"
    }
   ],
   "source": [
    "Company"
   ]
  },
  {
   "cell_type": "code",
   "execution_count": 43,
   "id": "528efbb7-60c5-470b-97ed-1b98f9d47132",
   "metadata": {},
   "outputs": [
    {
     "data": {
      "text/plain": [
       "True"
      ]
     },
     "execution_count": 43,
     "metadata": {},
     "output_type": "execute_result"
    }
   ],
   "source": [
    "# Boolean\n",
    "True"
   ]
  },
  {
   "cell_type": "code",
   "execution_count": 44,
   "id": "8cfd6261-c08d-4431-96c3-110fb47b667f",
   "metadata": {},
   "outputs": [
    {
     "data": {
      "text/plain": [
       "False"
      ]
     },
     "execution_count": 44,
     "metadata": {},
     "output_type": "execute_result"
    }
   ],
   "source": [
    "False"
   ]
  },
  {
   "cell_type": "markdown",
   "id": "9637658c-f96b-4816-8865-e725152f7434",
   "metadata": {},
   "source": []
  },
  {
   "cell_type": "code",
   "execution_count": null,
   "id": "12135a81-cd93-4a96-86b7-5c305413cac8",
   "metadata": {},
   "outputs": [],
   "source": []
  }
 ],
 "metadata": {
  "kernelspec": {
   "display_name": "Python 3 (ipykernel)",
   "language": "python",
   "name": "python3"
  },
  "language_info": {
   "codemirror_mode": {
    "name": "ipython",
    "version": 3
   },
   "file_extension": ".py",
   "mimetype": "text/x-python",
   "name": "python",
   "nbconvert_exporter": "python",
   "pygments_lexer": "ipython3",
   "version": "3.10.8"
  }
 },
 "nbformat": 4,
 "nbformat_minor": 5
}
